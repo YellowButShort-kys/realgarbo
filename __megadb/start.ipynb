{
 "cells": [
  {
   "cell_type": "code",
   "execution_count": 1,
   "metadata": {},
   "outputs": [
    {
     "ename": "ModuleNotFoundError",
     "evalue": "No module named 'pyenet'",
     "output_type": "error",
     "traceback": [
      "\u001b[1;31m---------------------------------------------------------------------------\u001b[0m",
      "\u001b[1;31mModuleNotFoundError\u001b[0m                       Traceback (most recent call last)",
      "Input \u001b[1;32mIn [1]\u001b[0m, in \u001b[0;36m<cell line: 1>\u001b[1;34m()\u001b[0m\n\u001b[1;32m----> 1\u001b[0m \u001b[38;5;28;01mimport\u001b[39;00m \u001b[38;5;21;01mpyenet\u001b[39;00m\n",
      "\u001b[1;31mModuleNotFoundError\u001b[0m: No module named 'pyenet'"
     ]
    }
   ],
   "source": [
    "import pyenet"
   ]
  },
  {
   "cell_type": "code",
   "execution_count": null,
   "metadata": {},
   "outputs": [],
   "source": [
    "from flask import Flask, request, jsonify\n",
    "import requests\n",
    "#VQ9fzeRfrjQCudkl7jzZLvkF3kwVNw7ACGCA1jzdvDeoFk2H6SDQoGItFnqORZ2E\n",
    "app = Flask(__name__)\n",
    "@app.route('/Translator', methods=['POST'])\n",
    "def webhook():\n",
    "    data = request.get_json()\n",
    "    print('Received data: ', data)\n",
    "    r = requests.post(\"https://translate.api.cloud.yandex.net/translate/v2/translate\", json={r\"sourceLanguageCode\": r\"ru\",r\"targetLanguageCode\": r\"en\",r\"texts\": [data[\"ToTranslate\"]],r\"folderId\": r\"b1g15f5au931q1a4dqve\"}, headers=headers).json()[\"translations\"][0][\"text\"]\n",
    "    return jsonify({\"Translated\": r})\n",
    "if __name__ == '__main__':\n",
    "    app.run(host=\"0.0.0.0\", debug=True)"
   ]
  }
 ],
 "metadata": {
  "kernelspec": {
   "display_name": "Python 3",
   "language": "python",
   "name": "python3"
  },
  "language_info": {
   "codemirror_mode": {
    "name": "ipython",
    "version": 3
   },
   "file_extension": ".py",
   "mimetype": "text/x-python",
   "name": "python",
   "nbconvert_exporter": "python",
   "pygments_lexer": "ipython3",
   "version": "3.10.2"
  }
 },
 "nbformat": 4,
 "nbformat_minor": 2
}
