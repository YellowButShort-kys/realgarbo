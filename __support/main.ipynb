{
 "cells": [
  {
   "cell_type": "code",
   "execution_count": 12,
   "metadata": {},
   "outputs": [],
   "source": [
    "import requests\n",
    "import json"
   ]
  },
  {
   "cell_type": "code",
   "execution_count": 3,
   "metadata": {},
   "outputs": [],
   "source": [
    "TG_LINK = \"https://api.telegram.org/bot6296177395:AAFcN37QRXBPfZvtQ0WE8bszJErV4oWm86I/\""
   ]
  },
  {
   "cell_type": "code",
   "execution_count": 6,
   "metadata": {},
   "outputs": [],
   "source": [
    "def GetMe():\n",
    "    with requests.request(\"GET\", TG_LINK+\"GetMe\") as r:\n",
    "        return r.json()"
   ]
  },
  {
   "cell_type": "code",
   "execution_count": 7,
   "metadata": {},
   "outputs": [],
   "source": [
    "def onMessage(msg):\n",
    "    print(msg.text)"
   ]
  },
  {
   "cell_type": "code",
   "execution_count": 19,
   "metadata": {},
   "outputs": [],
   "source": [
    "offset = 0\n",
    "def Update(offset = 0, timeout = 0):\n",
    "    with requests.request(\"GET\", TG_LINK+\"getUpdates\") as r:\n",
    "        result = r.json()\n",
    "        if result[\"ok\"]:\n",
    "            for pack in result[\"result\"]:\n",
    "                if \"message\" in pack:\n",
    "                    onMessage(pack)"
   ]
  },
  {
   "cell_type": "code",
   "execution_count": 20,
   "metadata": {},
   "outputs": [
    {
     "name": "stdout",
     "output_type": "stream",
     "text": [
      "{\n",
      "    \"ok\": true,\n",
      "    \"result\": [\n",
      "        {\n",
      "            \"update_id\": 431081790,\n",
      "            \"message\": {\n",
      "                \"message_id\": 38,\n",
      "                \"from\": {\n",
      "                    \"id\": 386513759,\n",
      "                    \"is_bot\": false,\n",
      "                    \"first_name\": \"\\u0410\\u043d\\u0434\\u0440\\u0435\\u0439\",\n",
      "                    \"username\": \"IneedName\",\n",
      "                    \"language_code\": \"en\"\n",
      "                },\n",
      "                \"chat\": {\n",
      "                    \"id\": 386513759,\n",
      "                    \"first_name\": \"\\u0410\\u043d\\u0434\\u0440\\u0435\\u0439\",\n",
      "                    \"username\": \"IneedName\",\n",
      "                    \"type\": \"private\"\n",
      "                },\n",
      "                \"date\": 1716396581,\n",
      "                \"text\": \"/start 1211221\",\n",
      "                \"entities\": [\n",
      "                    {\n",
      "                        \"offset\": 0,\n",
      "                        \"length\": 6,\n",
      "                        \"type\": \"bot_command\"\n",
      "                    }\n",
      "                ]\n",
      "            }\n",
      "        }\n",
      "    ]\n",
      "}\n"
     ]
    }
   ],
   "source": [
    "Update()"
   ]
  }
 ],
 "metadata": {
  "kernelspec": {
   "display_name": "Python 3",
   "language": "python",
   "name": "python3"
  },
  "language_info": {
   "codemirror_mode": {
    "name": "ipython",
    "version": 3
   },
   "file_extension": ".py",
   "mimetype": "text/x-python",
   "name": "python",
   "nbconvert_exporter": "python",
   "pygments_lexer": "ipython3",
   "version": "3.10.2"
  }
 },
 "nbformat": 4,
 "nbformat_minor": 2
}
